{
 "cells": [
  {
   "cell_type": "code",
   "execution_count": 158,
   "metadata": {},
   "outputs": [
    {
     "ename": "SyntaxError",
     "evalue": "EOL while scanning string literal (<ipython-input-158-08a15ae7af64>, line 44)",
     "output_type": "error",
     "traceback": [
      "\u001b[1;36m  File \u001b[1;32m\"<ipython-input-158-08a15ae7af64>\"\u001b[1;36m, line \u001b[1;32m44\u001b[0m\n\u001b[1;33m    print(f\"previousMonthlyProfit = {previousMonthlyProfit})\u001b[0m\n\u001b[1;37m                                                            ^\u001b[0m\n\u001b[1;31mSyntaxError\u001b[0m\u001b[1;31m:\u001b[0m EOL while scanning string literal\n"
     ]
    }
   ],
   "source": [
    " #Import the pathlib and csv library\n",
    "from pathlib import Path\n",
    "import csv \n",
    "\n",
    "# Set the file path\n",
    "csvpath = Path('Resources/budget_data.csv')\n",
    "\n",
    "# Initialization\n",
    "records = []\n",
    "numMonths = 0\n",
    "profit_total = 0\n",
    "maxMonthlyProfitibility = None\n",
    "minMonthlyProfitability = None\n",
    "previousMonthlyProfit = None\n",
    "\n",
    "# Open the csv file as an object\n",
    "with open(csvpath, 'r') as csvfile:\n",
    "    \n",
    "    # Read header\n",
    "    csv_reader = csv.reader(csvfile, delimiter=',')\n",
    "    csv_header = next(csvreader)\n",
    "    \n",
    "    # Read each row of data after the header\n",
    "    for row in csvreader:\n",
    "        \n",
    "        #print(row)\n",
    "        \n",
    "        # Count number of months\n",
    "        numMonths += 1\n",
    "        \n",
    "        # Calculate total Profit/Loss\n",
    "        monthlyProfitLoss = int(row[1])\n",
    "        profit_total += montlyProfitLoss\n",
    "        \n",
    "        # Calculate monthly profit change\n",
    "        if previousMontlyProfit is None:\n",
    "            # We are on the first row\n",
    "            previousMonthlyProfit = monthlyProfitLoss\n",
    "            print(\"We are on the first row\")\n",
    "            print(f\"previousMonthlyProfit = {previousMonthlyProfit}\")\n",
    "        else: \n",
    "            # We are not on the first row\n",
    "            print(\"We are not on the first row\")\n",
    "            print(f\"previousMonthlyProfit = {previousMonthlyProfit})\n",
    "            monthlyProfitChange = monthlyProfitLoss - previousMonthlyProfit\n",
    "            previousMonthlyProfit = monthlyProfitLoss\n",
    "        \n",
    "# Average P/L\n",
    "averagePnl = round(profit_total / numMonths, 2)\n",
    "\n",
    "# Average monthly profit change\n",
    "averageMonthlyProfitChange = \n",
    "print(numMonths)\n",
    "print(profit_total)\n",
    "print(averageMonthlyProfitChange)      \n",
    "    \n",
    "    \n",
    "        \n",
    " "
   ]
  },
  {
   "cell_type": "code",
   "execution_count": null,
   "metadata": {},
   "outputs": [],
   "source": []
  },
  {
   "cell_type": "code",
   "execution_count": null,
   "metadata": {},
   "outputs": [],
   "source": []
  }
 ],
 "metadata": {
  "kernelspec": {
   "display_name": "Python 3",
   "language": "python",
   "name": "python3"
  },
  "language_info": {
   "codemirror_mode": {
    "name": "ipython",
    "version": 3
   },
   "file_extension": ".py",
   "mimetype": "text/x-python",
   "name": "python",
   "nbconvert_exporter": "python",
   "pygments_lexer": "ipython3",
   "version": "3.8.3"
  }
 },
 "nbformat": 4,
 "nbformat_minor": 4
}
