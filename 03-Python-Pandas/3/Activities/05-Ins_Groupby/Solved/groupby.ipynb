{
 "cells": [
  {
   "cell_type": "markdown",
   "metadata": {},
   "source": [
    "### Import Libraries and Dependencies"
   ]
  },
  {
   "cell_type": "code",
   "execution_count": 1,
   "metadata": {},
   "outputs": [],
   "source": [
    "import pandas as pd\n",
    "from pathlib import Path\n",
    "%matplotlib inline"
   ]
  },
  {
   "cell_type": "markdown",
   "metadata": {},
   "source": [
    "### Read in File and Clean Data"
   ]
  },
  {
   "cell_type": "code",
   "execution_count": 2,
   "metadata": {},
   "outputs": [
    {
     "data": {
      "text/html": [
       "<div>\n",
       "<style scoped>\n",
       "    .dataframe tbody tr th:only-of-type {\n",
       "        vertical-align: middle;\n",
       "    }\n",
       "\n",
       "    .dataframe tbody tr th {\n",
       "        vertical-align: top;\n",
       "    }\n",
       "\n",
       "    .dataframe thead th {\n",
       "        text-align: right;\n",
       "    }\n",
       "</style>\n",
       "<table border=\"1\" class=\"dataframe\">\n",
       "  <thead>\n",
       "    <tr style=\"text-align: right;\">\n",
       "      <th></th>\n",
       "      <th>cryptocurrency</th>\n",
       "      <th>data_priceUsd</th>\n",
       "    </tr>\n",
       "    <tr>\n",
       "      <th>data_date</th>\n",
       "      <th></th>\n",
       "      <th></th>\n",
       "    </tr>\n",
       "  </thead>\n",
       "  <tbody>\n",
       "    <tr>\n",
       "      <td>2017-05-09</td>\n",
       "      <td>litecoin</td>\n",
       "      <td>28.020288</td>\n",
       "    </tr>\n",
       "    <tr>\n",
       "      <td>2017-05-09</td>\n",
       "      <td>ripple</td>\n",
       "      <td>0.166990</td>\n",
       "    </tr>\n",
       "    <tr>\n",
       "      <td>2017-05-09</td>\n",
       "      <td>ethereum</td>\n",
       "      <td>84.915618</td>\n",
       "    </tr>\n",
       "    <tr>\n",
       "      <td>2017-05-10</td>\n",
       "      <td>litecoin</td>\n",
       "      <td>33.487730</td>\n",
       "    </tr>\n",
       "    <tr>\n",
       "      <td>2017-05-10</td>\n",
       "      <td>bitcoin</td>\n",
       "      <td>1743.723523</td>\n",
       "    </tr>\n",
       "  </tbody>\n",
       "</table>\n",
       "</div>"
      ],
      "text/plain": [
       "           cryptocurrency  data_priceUsd\n",
       "data_date                               \n",
       "2017-05-09       litecoin      28.020288\n",
       "2017-05-09         ripple       0.166990\n",
       "2017-05-09       ethereum      84.915618\n",
       "2017-05-10       litecoin      33.487730\n",
       "2017-05-10        bitcoin    1743.723523"
      ]
     },
     "execution_count": 2,
     "metadata": {},
     "output_type": "execute_result"
    }
   ],
   "source": [
    "# Read CSV\n",
    "csv_path = Path('../Resources/crypto_data.csv')\n",
    "crypto_data = pd.read_csv(csv_path, index_col='data_date', parse_dates=True, infer_datetime_format=True)\n",
    "crypto_data\n",
    "\n",
    "# Drop all columns cryptocurrency and data_priceUsd\n",
    "crypto_data = crypto_data.drop(columns=['data_time','timestamp'])\n",
    "\n",
    "# Sort the dates in ascending order\n",
    "crypto_data = crypto_data.sort_index()\n",
    "\n",
    "# Drop missing values\n",
    "crypto_data = crypto_data.dropna()\n",
    "crypto_data.head()"
   ]
  },
  {
   "cell_type": "markdown",
   "metadata": {},
   "source": [
    "### Group DataFrame and perform `count` aggregation"
   ]
  },
  {
   "cell_type": "code",
   "execution_count": 3,
   "metadata": {},
   "outputs": [
    {
     "data": {
      "text/html": [
       "<div>\n",
       "<style scoped>\n",
       "    .dataframe tbody tr th:only-of-type {\n",
       "        vertical-align: middle;\n",
       "    }\n",
       "\n",
       "    .dataframe tbody tr th {\n",
       "        vertical-align: top;\n",
       "    }\n",
       "\n",
       "    .dataframe thead th {\n",
       "        text-align: right;\n",
       "    }\n",
       "</style>\n",
       "<table border=\"1\" class=\"dataframe\">\n",
       "  <thead>\n",
       "    <tr style=\"text-align: right;\">\n",
       "      <th></th>\n",
       "      <th>data_priceUsd</th>\n",
       "    </tr>\n",
       "    <tr>\n",
       "      <th>cryptocurrency</th>\n",
       "      <th></th>\n",
       "    </tr>\n",
       "  </thead>\n",
       "  <tbody>\n",
       "    <tr>\n",
       "      <td>bitcoin</td>\n",
       "      <td>722</td>\n",
       "    </tr>\n",
       "    <tr>\n",
       "      <td>bitcoin-cash</td>\n",
       "      <td>639</td>\n",
       "    </tr>\n",
       "    <tr>\n",
       "      <td>ethereum</td>\n",
       "      <td>722</td>\n",
       "    </tr>\n",
       "    <tr>\n",
       "      <td>litecoin</td>\n",
       "      <td>728</td>\n",
       "    </tr>\n",
       "    <tr>\n",
       "      <td>ripple</td>\n",
       "      <td>728</td>\n",
       "    </tr>\n",
       "  </tbody>\n",
       "</table>\n",
       "</div>"
      ],
      "text/plain": [
       "                data_priceUsd\n",
       "cryptocurrency               \n",
       "bitcoin                   722\n",
       "bitcoin-cash              639\n",
       "ethereum                  722\n",
       "litecoin                  728\n",
       "ripple                    728"
      ]
     },
     "execution_count": 3,
     "metadata": {},
     "output_type": "execute_result"
    }
   ],
   "source": [
    "# Group by crypto data by cryptocurrency and perform count\n",
    "crypto_data_grp = crypto_data.groupby('cryptocurrency').count()\n",
    "crypto_data_grp"
   ]
  },
  {
   "cell_type": "markdown",
   "metadata": {},
   "source": [
    "### Group DataFrame without aggregate function"
   ]
  },
  {
   "cell_type": "code",
   "execution_count": 4,
   "metadata": {},
   "outputs": [
    {
     "data": {
      "text/plain": [
       "<pandas.core.groupby.generic.DataFrameGroupBy object at 0x11adfb748>"
      ]
     },
     "execution_count": 4,
     "metadata": {},
     "output_type": "execute_result"
    }
   ],
   "source": [
    "# Group by crypto data by cryptocurrency\n",
    "crypto_data_grp = crypto_data.groupby('cryptocurrency')\n",
    "crypto_data_grp"
   ]
  },
  {
   "cell_type": "markdown",
   "metadata": {},
   "source": [
    "### Group DataFrame by `cryptocurrency` and calculate the average `data_priceUsd`"
   ]
  },
  {
   "cell_type": "code",
   "execution_count": 5,
   "metadata": {},
   "outputs": [
    {
     "data": {
      "text/html": [
       "<div>\n",
       "<style scoped>\n",
       "    .dataframe tbody tr th:only-of-type {\n",
       "        vertical-align: middle;\n",
       "    }\n",
       "\n",
       "    .dataframe tbody tr th {\n",
       "        vertical-align: top;\n",
       "    }\n",
       "\n",
       "    .dataframe thead th {\n",
       "        text-align: right;\n",
       "    }\n",
       "</style>\n",
       "<table border=\"1\" class=\"dataframe\">\n",
       "  <thead>\n",
       "    <tr style=\"text-align: right;\">\n",
       "      <th></th>\n",
       "      <th>data_priceUsd</th>\n",
       "    </tr>\n",
       "    <tr>\n",
       "      <th>cryptocurrency</th>\n",
       "      <th></th>\n",
       "    </tr>\n",
       "  </thead>\n",
       "  <tbody>\n",
       "    <tr>\n",
       "      <td>bitcoin</td>\n",
       "      <td>6323.018445</td>\n",
       "    </tr>\n",
       "    <tr>\n",
       "      <td>bitcoin-cash</td>\n",
       "      <td>733.997564</td>\n",
       "    </tr>\n",
       "    <tr>\n",
       "      <td>ethereum</td>\n",
       "      <td>369.037426</td>\n",
       "    </tr>\n",
       "    <tr>\n",
       "      <td>litecoin</td>\n",
       "      <td>85.618264</td>\n",
       "    </tr>\n",
       "    <tr>\n",
       "      <td>ripple</td>\n",
       "      <td>0.475986</td>\n",
       "    </tr>\n",
       "  </tbody>\n",
       "</table>\n",
       "</div>"
      ],
      "text/plain": [
       "                data_priceUsd\n",
       "cryptocurrency               \n",
       "bitcoin           6323.018445\n",
       "bitcoin-cash       733.997564\n",
       "ethereum           369.037426\n",
       "litecoin            85.618264\n",
       "ripple               0.475986"
      ]
     },
     "execution_count": 5,
     "metadata": {},
     "output_type": "execute_result"
    }
   ],
   "source": [
    "# Calculate average data_priceUsd for each crypto\n",
    "crypto_data_mean = crypto_data.groupby('cryptocurrency').mean()\n",
    "crypto_data_mean"
   ]
  },
  {
   "cell_type": "markdown",
   "metadata": {},
   "source": [
    "### Group by more than one column and calculate count"
   ]
  },
  {
   "cell_type": "code",
   "execution_count": 6,
   "metadata": {},
   "outputs": [
    {
     "data": {
      "text/plain": [
       "cryptocurrency  data_priceUsd\n",
       "bitcoin         1714.964198      1\n",
       "                1742.722945      1\n",
       "                1743.723523      1\n",
       "                1776.443919      1\n",
       "                1789.278913      1\n",
       "                                ..\n",
       "ripple          2.507770         1\n",
       "                2.665656         1\n",
       "                2.667044         1\n",
       "                2.709364         1\n",
       "                2.999459         1\n",
       "Name: data_priceUsd, Length: 3539, dtype: int64"
      ]
     },
     "execution_count": 6,
     "metadata": {},
     "output_type": "execute_result"
    }
   ],
   "source": [
    "# Group by more than one column\n",
    "multi_group = crypto_data.groupby(['cryptocurrency','data_priceUsd'])['data_priceUsd'].count()\n",
    "multi_group"
   ]
  },
  {
   "cell_type": "markdown",
   "metadata": {},
   "source": [
    "### Group by more than one column, round price to two decimal places, and calculate count"
   ]
  },
  {
   "cell_type": "code",
   "execution_count": 7,
   "metadata": {},
   "outputs": [
    {
     "data": {
      "text/plain": [
       "cryptocurrency  data_priceUsd\n",
       "bitcoin         1714.96          1\n",
       "                1742.72          1\n",
       "                1743.72          1\n",
       "                1776.44          1\n",
       "                1789.28          1\n",
       "                                ..\n",
       "ripple          2.48             1\n",
       "                2.51             1\n",
       "                2.67             2\n",
       "                2.71             1\n",
       "                3.00             1\n",
       "Name: data_priceUsd, Length: 2901, dtype: int64"
      ]
     },
     "execution_count": 7,
     "metadata": {},
     "output_type": "execute_result"
    }
   ],
   "source": [
    "# Group by more than one column after rounding to two decimal places\n",
    "rounded_crypto_data = crypto_data.round({'data_priceUsd': 2})\n",
    "\n",
    "multi_group = rounded_crypto_data.groupby(['cryptocurrency','data_priceUsd'])['data_priceUsd'].count()\n",
    "multi_group"
   ]
  },
  {
   "cell_type": "markdown",
   "metadata": {},
   "source": [
    "### Compare single column grouping to multicolumn grouping"
   ]
  },
  {
   "cell_type": "code",
   "execution_count": 8,
   "metadata": {},
   "outputs": [
    {
     "data": {
      "text/plain": [
       "cryptocurrency\n",
       "bitcoin         722\n",
       "bitcoin-cash    639\n",
       "ethereum        722\n",
       "litecoin        728\n",
       "ripple          728\n",
       "Name: data_priceUsd, dtype: int64"
      ]
     },
     "execution_count": 8,
     "metadata": {},
     "output_type": "execute_result"
    }
   ],
   "source": [
    "# Compare one column group with multiple column group\n",
    "single_group = crypto_data.groupby('cryptocurrency')['data_priceUsd'].count()\n",
    "single_group"
   ]
  },
  {
   "cell_type": "markdown",
   "metadata": {},
   "source": [
    "### Plot grouped data to generate more than one line on the same chart"
   ]
  },
  {
   "cell_type": "code",
   "execution_count": 9,
   "metadata": {},
   "outputs": [
    {
     "data": {
      "text/plain": [
       "cryptocurrency\n",
       "bitcoin         AxesSubplot(0.125,0.2;0.775x0.68)\n",
       "bitcoin-cash    AxesSubplot(0.125,0.2;0.775x0.68)\n",
       "ethereum        AxesSubplot(0.125,0.2;0.775x0.68)\n",
       "litecoin        AxesSubplot(0.125,0.2;0.775x0.68)\n",
       "ripple          AxesSubplot(0.125,0.2;0.775x0.68)\n",
       "Name: data_priceUsd, dtype: object"
      ]
     },
     "execution_count": 9,
     "metadata": {},
     "output_type": "execute_result"
    },
    {
     "data": {
      "image/png": "[encoded data removed]",
      "text/plain": [
       "<Figure size 432x288 with 1 Axes>"
      ]
     },
     "metadata": {
      "needs_background": "light"
     },
     "output_type": "display_data"
    }
   ],
   "source": [
    "# Plot data_priceUsd for each crypto across time\n",
    "grouped_cryptos = crypto_data.groupby('cryptocurrency')['data_priceUsd'].plot(legend=True)\n",
    "grouped_cryptos"
   ]
  }
 ],
 "metadata": {
  "kernelspec": {
   "display_name": "Python 3",
   "language": "python",
   "name": "python3"
  },
  "language_info": {
   "codemirror_mode": {
    "name": "ipython",
    "version": 3
   },
   "file_extension": ".py",
   "mimetype": "text/x-python",
   "name": "python",
   "nbconvert_exporter": "python",
   "pygments_lexer": "ipython3",
   "version": "3.7.3"
  }
 },
 "nbformat": 4,
 "nbformat_minor": 4
}
