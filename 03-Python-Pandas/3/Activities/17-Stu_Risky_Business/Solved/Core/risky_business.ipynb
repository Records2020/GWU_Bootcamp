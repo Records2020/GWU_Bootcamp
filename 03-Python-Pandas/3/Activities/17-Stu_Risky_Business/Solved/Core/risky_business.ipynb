{
 "cells": [
  {
   "cell_type": "markdown",
   "metadata": {},
   "source": [
    "# Risky Business"
   ]
  },
  {
   "cell_type": "markdown",
   "metadata": {},
   "source": [
    "Harold has been boasting about his recent cryptocurrency returns. He's even bet you five bucks that his trading algorithm has made his returns better than yours. Calculate the standard deviation and sharpe ratio for each your portfolios to determine which portfolio is the better investment based off of the greatest risk to reward ratio."
   ]
  },
  {
   "cell_type": "code",
   "execution_count": 1,
   "metadata": {},
   "outputs": [],
   "source": [
    "import pandas as pd\n",
    "import numpy as np\n",
    "from pathlib import Path\n",
    "%matplotlib inline"
   ]
  },
  {
   "cell_type": "markdown",
   "metadata": {},
   "source": [
    "### Read in data"
   ]
  },
  {
   "cell_type": "code",
   "execution_count": 2,
   "metadata": {},
   "outputs": [
    {
     "data": {
      "text/html": [
       "<div>\n",
       "<style scoped>\n",
       "    .dataframe tbody tr th:only-of-type {\n",
       "        vertical-align: middle;\n",
       "    }\n",
       "\n",
       "    .dataframe tbody tr th {\n",
       "        vertical-align: top;\n",
       "    }\n",
       "\n",
       "    .dataframe thead th {\n",
       "        text-align: right;\n",
       "    }\n",
       "</style>\n",
       "<table border=\"1\" class=\"dataframe\">\n",
       "  <thead>\n",
       "    <tr style=\"text-align: right;\">\n",
       "      <th></th>\n",
       "      <th>BTC</th>\n",
       "      <th>BTT</th>\n",
       "      <th>DOGE</th>\n",
       "      <th>ETH</th>\n",
       "      <th>LTC</th>\n",
       "      <th>XRP</th>\n",
       "      <th>SOLVE</th>\n",
       "      <th>XLM</th>\n",
       "      <th>TRON</th>\n",
       "      <th>ZIL</th>\n",
       "    </tr>\n",
       "    <tr>\n",
       "      <th>Date</th>\n",
       "      <th></th>\n",
       "      <th></th>\n",
       "      <th></th>\n",
       "      <th></th>\n",
       "      <th></th>\n",
       "      <th></th>\n",
       "      <th></th>\n",
       "      <th></th>\n",
       "      <th></th>\n",
       "      <th></th>\n",
       "    </tr>\n",
       "  </thead>\n",
       "  <tbody>\n",
       "    <tr>\n",
       "      <th>2019-05-20</th>\n",
       "      <td>8118.39</td>\n",
       "      <td>0.001187</td>\n",
       "      <td>0.003041</td>\n",
       "      <td>261.09</td>\n",
       "      <td>95.06</td>\n",
       "      <td>0.398003</td>\n",
       "      <td>0.338667</td>\n",
       "      <td>0.135545</td>\n",
       "      <td>0.028509</td>\n",
       "      <td>0.017992</td>\n",
       "    </tr>\n",
       "    <tr>\n",
       "      <th>2019-05-19</th>\n",
       "      <td>8200.00</td>\n",
       "      <td>0.001056</td>\n",
       "      <td>0.003178</td>\n",
       "      <td>234.03</td>\n",
       "      <td>86.65</td>\n",
       "      <td>0.417700</td>\n",
       "      <td>0.300430</td>\n",
       "      <td>0.141485</td>\n",
       "      <td>0.029277</td>\n",
       "      <td>0.019170</td>\n",
       "    </tr>\n",
       "    <tr>\n",
       "      <th>2019-05-18</th>\n",
       "      <td>7262.40</td>\n",
       "      <td>0.000993</td>\n",
       "      <td>0.003005</td>\n",
       "      <td>244.59</td>\n",
       "      <td>89.88</td>\n",
       "      <td>0.372736</td>\n",
       "      <td>0.287630</td>\n",
       "      <td>0.128833</td>\n",
       "      <td>0.026823</td>\n",
       "      <td>0.017685</td>\n",
       "    </tr>\n",
       "    <tr>\n",
       "      <th>2019-05-17</th>\n",
       "      <td>7363.69</td>\n",
       "      <td>0.000957</td>\n",
       "      <td>0.002962</td>\n",
       "      <td>264.39</td>\n",
       "      <td>95.75</td>\n",
       "      <td>0.386193</td>\n",
       "      <td>0.259506</td>\n",
       "      <td>0.126562</td>\n",
       "      <td>0.027220</td>\n",
       "      <td>0.017892</td>\n",
       "    </tr>\n",
       "    <tr>\n",
       "      <th>2019-05-16</th>\n",
       "      <td>7878.96</td>\n",
       "      <td>0.000885</td>\n",
       "      <td>0.003168</td>\n",
       "      <td>249.00</td>\n",
       "      <td>102.26</td>\n",
       "      <td>0.419707</td>\n",
       "      <td>0.223316</td>\n",
       "      <td>0.137283</td>\n",
       "      <td>0.028857</td>\n",
       "      <td>0.018725</td>\n",
       "    </tr>\n",
       "  </tbody>\n",
       "</table>\n",
       "</div>"
      ],
      "text/plain": [
       "                BTC       BTT      DOGE     ETH     LTC       XRP     SOLVE  \\\n",
       "Date                                                                          \n",
       "2019-05-20  8118.39  0.001187  0.003041  261.09   95.06  0.398003  0.338667   \n",
       "2019-05-19  8200.00  0.001056  0.003178  234.03   86.65  0.417700  0.300430   \n",
       "2019-05-18  7262.40  0.000993  0.003005  244.59   89.88  0.372736  0.287630   \n",
       "2019-05-17  7363.69  0.000957  0.002962  264.39   95.75  0.386193  0.259506   \n",
       "2019-05-16  7878.96  0.000885  0.003168  249.00  102.26  0.419707  0.223316   \n",
       "\n",
       "                 XLM      TRON       ZIL  \n",
       "Date                                      \n",
       "2019-05-20  0.135545  0.028509  0.017992  \n",
       "2019-05-19  0.141485  0.029277  0.019170  \n",
       "2019-05-18  0.128833  0.026823  0.017685  \n",
       "2019-05-17  0.126562  0.027220  0.017892  \n",
       "2019-05-16  0.137283  0.028857  0.018725  "
      ]
     },
     "execution_count": 2,
     "metadata": {},
     "output_type": "execute_result"
    }
   ],
   "source": [
    "harold_portfolio_path = Path(\"../../Resources/harold_portfolio.csv\")\n",
    "my_portfolio_path = Path(\"../../Resources/my_portfolio.csv\")\n",
    "\n",
    "# Read in data\n",
    "harold_portfolio = pd.read_csv(harold_portfolio_path, parse_dates=True, infer_datetime_format=True)\n",
    "my_portfolio = pd.read_csv(my_portfolio_path, parse_dates=True, infer_datetime_format=True)\n",
    "\n",
    "# Drop na\n",
    "harold_portfolio = harold_portfolio.dropna()\n",
    "my_portfolio = my_portfolio.dropna()\n",
    "\n",
    "# Set Date as index\n",
    "harold_portfolio = harold_portfolio.set_index('Date')\n",
    "my_portfolio = my_portfolio.set_index('Date')\n",
    "\n",
    "harold_portfolio.head()"
   ]
  },
  {
   "cell_type": "markdown",
   "metadata": {},
   "source": [
    "### Calculate daily returns "
   ]
  },
  {
   "cell_type": "code",
   "execution_count": 3,
   "metadata": {},
   "outputs": [
    {
     "data": {
      "text/html": [
       "<div>\n",
       "<style scoped>\n",
       "    .dataframe tbody tr th:only-of-type {\n",
       "        vertical-align: middle;\n",
       "    }\n",
       "\n",
       "    .dataframe tbody tr th {\n",
       "        vertical-align: top;\n",
       "    }\n",
       "\n",
       "    .dataframe thead th {\n",
       "        text-align: right;\n",
       "    }\n",
       "</style>\n",
       "<table border=\"1\" class=\"dataframe\">\n",
       "  <thead>\n",
       "    <tr style=\"text-align: right;\">\n",
       "      <th></th>\n",
       "      <th>BTC</th>\n",
       "      <th>BTT</th>\n",
       "      <th>DOGE</th>\n",
       "      <th>ETH</th>\n",
       "      <th>LTC</th>\n",
       "      <th>XRP</th>\n",
       "      <th>SOLVE</th>\n",
       "      <th>XLM</th>\n",
       "      <th>TRON</th>\n",
       "      <th>ZIL</th>\n",
       "    </tr>\n",
       "    <tr>\n",
       "      <th>Date</th>\n",
       "      <th></th>\n",
       "      <th></th>\n",
       "      <th></th>\n",
       "      <th></th>\n",
       "      <th></th>\n",
       "      <th></th>\n",
       "      <th></th>\n",
       "      <th></th>\n",
       "      <th></th>\n",
       "      <th></th>\n",
       "    </tr>\n",
       "  </thead>\n",
       "  <tbody>\n",
       "    <tr>\n",
       "      <th>2019-05-19</th>\n",
       "      <td>0.010052</td>\n",
       "      <td>-0.110362</td>\n",
       "      <td>0.045051</td>\n",
       "      <td>-0.103642</td>\n",
       "      <td>-0.088470</td>\n",
       "      <td>0.049490</td>\n",
       "      <td>-0.112904</td>\n",
       "      <td>0.043823</td>\n",
       "      <td>0.026939</td>\n",
       "      <td>0.065474</td>\n",
       "    </tr>\n",
       "    <tr>\n",
       "      <th>2019-05-18</th>\n",
       "      <td>-0.114341</td>\n",
       "      <td>-0.059659</td>\n",
       "      <td>-0.054437</td>\n",
       "      <td>0.045122</td>\n",
       "      <td>0.037276</td>\n",
       "      <td>-0.107647</td>\n",
       "      <td>-0.042606</td>\n",
       "      <td>-0.089423</td>\n",
       "      <td>-0.083820</td>\n",
       "      <td>-0.077465</td>\n",
       "    </tr>\n",
       "    <tr>\n",
       "      <th>2019-05-17</th>\n",
       "      <td>0.013947</td>\n",
       "      <td>-0.036254</td>\n",
       "      <td>-0.014309</td>\n",
       "      <td>0.080952</td>\n",
       "      <td>0.065309</td>\n",
       "      <td>0.036103</td>\n",
       "      <td>-0.097778</td>\n",
       "      <td>-0.017627</td>\n",
       "      <td>0.014801</td>\n",
       "      <td>0.011705</td>\n",
       "    </tr>\n",
       "    <tr>\n",
       "      <th>2019-05-16</th>\n",
       "      <td>0.069974</td>\n",
       "      <td>-0.075235</td>\n",
       "      <td>0.069548</td>\n",
       "      <td>-0.058209</td>\n",
       "      <td>0.067990</td>\n",
       "      <td>0.086780</td>\n",
       "      <td>-0.139457</td>\n",
       "      <td>0.084709</td>\n",
       "      <td>0.060140</td>\n",
       "      <td>0.046557</td>\n",
       "    </tr>\n",
       "    <tr>\n",
       "      <th>2019-05-15</th>\n",
       "      <td>0.041168</td>\n",
       "      <td>-0.037288</td>\n",
       "      <td>0.044192</td>\n",
       "      <td>-0.126747</td>\n",
       "      <td>-0.103364</td>\n",
       "      <td>0.086484</td>\n",
       "      <td>0.007420</td>\n",
       "      <td>-0.002047</td>\n",
       "      <td>0.086322</td>\n",
       "      <td>0.088224</td>\n",
       "    </tr>\n",
       "  </tbody>\n",
       "</table>\n",
       "</div>"
      ],
      "text/plain": [
       "                 BTC       BTT      DOGE       ETH       LTC       XRP  \\\n",
       "Date                                                                     \n",
       "2019-05-19  0.010052 -0.110362  0.045051 -0.103642 -0.088470  0.049490   \n",
       "2019-05-18 -0.114341 -0.059659 -0.054437  0.045122  0.037276 -0.107647   \n",
       "2019-05-17  0.013947 -0.036254 -0.014309  0.080952  0.065309  0.036103   \n",
       "2019-05-16  0.069974 -0.075235  0.069548 -0.058209  0.067990  0.086780   \n",
       "2019-05-15  0.041168 -0.037288  0.044192 -0.126747 -0.103364  0.086484   \n",
       "\n",
       "               SOLVE       XLM      TRON       ZIL  \n",
       "Date                                                \n",
       "2019-05-19 -0.112904  0.043823  0.026939  0.065474  \n",
       "2019-05-18 -0.042606 -0.089423 -0.083820 -0.077465  \n",
       "2019-05-17 -0.097778 -0.017627  0.014801  0.011705  \n",
       "2019-05-16 -0.139457  0.084709  0.060140  0.046557  \n",
       "2019-05-15  0.007420 -0.002047  0.086322  0.088224  "
      ]
     },
     "execution_count": 3,
     "metadata": {},
     "output_type": "execute_result"
    }
   ],
   "source": [
    "# Calculate daily returns for each portfolio\n",
    "harold_returns = harold_portfolio.pct_change().dropna()\n",
    "my_returns = my_portfolio.pct_change().dropna()\n",
    "harold_returns.head()"
   ]
  },
  {
   "cell_type": "markdown",
   "metadata": {},
   "source": [
    "### `Concat` portfolios into one DataFrame"
   ]
  },
  {
   "cell_type": "code",
   "execution_count": 4,
   "metadata": {},
   "outputs": [
    {
     "data": {
      "text/html": [
       "<div>\n",
       "<style scoped>\n",
       "    .dataframe tbody tr th:only-of-type {\n",
       "        vertical-align: middle;\n",
       "    }\n",
       "\n",
       "    .dataframe tbody tr th {\n",
       "        vertical-align: top;\n",
       "    }\n",
       "\n",
       "    .dataframe thead th {\n",
       "        text-align: right;\n",
       "    }\n",
       "</style>\n",
       "<table border=\"1\" class=\"dataframe\">\n",
       "  <thead>\n",
       "    <tr style=\"text-align: right;\">\n",
       "      <th></th>\n",
       "      <th>BTC</th>\n",
       "      <th>BTT</th>\n",
       "      <th>DOGE</th>\n",
       "      <th>ETH</th>\n",
       "      <th>LTC</th>\n",
       "      <th>XRP</th>\n",
       "      <th>SOLVE</th>\n",
       "      <th>XLM</th>\n",
       "      <th>TRON</th>\n",
       "      <th>ZIL</th>\n",
       "      <th>BTC</th>\n",
       "      <th>DOGE</th>\n",
       "      <th>ETH</th>\n",
       "      <th>LTC</th>\n",
       "      <th>XRP</th>\n",
       "      <th>XLM</th>\n",
       "    </tr>\n",
       "    <tr>\n",
       "      <th>Date</th>\n",
       "      <th></th>\n",
       "      <th></th>\n",
       "      <th></th>\n",
       "      <th></th>\n",
       "      <th></th>\n",
       "      <th></th>\n",
       "      <th></th>\n",
       "      <th></th>\n",
       "      <th></th>\n",
       "      <th></th>\n",
       "      <th></th>\n",
       "      <th></th>\n",
       "      <th></th>\n",
       "      <th></th>\n",
       "      <th></th>\n",
       "      <th></th>\n",
       "    </tr>\n",
       "  </thead>\n",
       "  <tbody>\n",
       "    <tr>\n",
       "      <th>2019-05-19</th>\n",
       "      <td>0.010052</td>\n",
       "      <td>-0.110362</td>\n",
       "      <td>0.045051</td>\n",
       "      <td>-0.103642</td>\n",
       "      <td>-0.088470</td>\n",
       "      <td>0.049490</td>\n",
       "      <td>-0.112904</td>\n",
       "      <td>0.043823</td>\n",
       "      <td>0.026939</td>\n",
       "      <td>0.065474</td>\n",
       "      <td>-0.114341</td>\n",
       "      <td>0.045051</td>\n",
       "      <td>-0.103642</td>\n",
       "      <td>-0.088470</td>\n",
       "      <td>0.049490</td>\n",
       "      <td>0.043823</td>\n",
       "    </tr>\n",
       "    <tr>\n",
       "      <th>2019-05-18</th>\n",
       "      <td>-0.114341</td>\n",
       "      <td>-0.059659</td>\n",
       "      <td>-0.054437</td>\n",
       "      <td>0.045122</td>\n",
       "      <td>0.037276</td>\n",
       "      <td>-0.107647</td>\n",
       "      <td>-0.042606</td>\n",
       "      <td>-0.089423</td>\n",
       "      <td>-0.083820</td>\n",
       "      <td>-0.077465</td>\n",
       "      <td>0.013947</td>\n",
       "      <td>-0.054437</td>\n",
       "      <td>0.045122</td>\n",
       "      <td>0.037276</td>\n",
       "      <td>-0.107647</td>\n",
       "      <td>-0.089423</td>\n",
       "    </tr>\n",
       "    <tr>\n",
       "      <th>2019-05-17</th>\n",
       "      <td>0.013947</td>\n",
       "      <td>-0.036254</td>\n",
       "      <td>-0.014309</td>\n",
       "      <td>0.080952</td>\n",
       "      <td>0.065309</td>\n",
       "      <td>0.036103</td>\n",
       "      <td>-0.097778</td>\n",
       "      <td>-0.017627</td>\n",
       "      <td>0.014801</td>\n",
       "      <td>0.011705</td>\n",
       "      <td>0.069974</td>\n",
       "      <td>-0.014309</td>\n",
       "      <td>0.080952</td>\n",
       "      <td>0.065309</td>\n",
       "      <td>0.036103</td>\n",
       "      <td>-0.017627</td>\n",
       "    </tr>\n",
       "    <tr>\n",
       "      <th>2019-05-16</th>\n",
       "      <td>0.069974</td>\n",
       "      <td>-0.075235</td>\n",
       "      <td>0.069548</td>\n",
       "      <td>-0.058209</td>\n",
       "      <td>0.067990</td>\n",
       "      <td>0.086780</td>\n",
       "      <td>-0.139457</td>\n",
       "      <td>0.084709</td>\n",
       "      <td>0.060140</td>\n",
       "      <td>0.046557</td>\n",
       "      <td>0.041168</td>\n",
       "      <td>0.069548</td>\n",
       "      <td>-0.058209</td>\n",
       "      <td>0.067990</td>\n",
       "      <td>0.086780</td>\n",
       "      <td>0.084709</td>\n",
       "    </tr>\n",
       "    <tr>\n",
       "      <th>2019-05-15</th>\n",
       "      <td>0.041168</td>\n",
       "      <td>-0.037288</td>\n",
       "      <td>0.044192</td>\n",
       "      <td>-0.126747</td>\n",
       "      <td>-0.103364</td>\n",
       "      <td>0.086484</td>\n",
       "      <td>0.007420</td>\n",
       "      <td>-0.002047</td>\n",
       "      <td>0.086322</td>\n",
       "      <td>0.088224</td>\n",
       "      <td>-0.025892</td>\n",
       "      <td>0.044192</td>\n",
       "      <td>-0.126747</td>\n",
       "      <td>-0.103364</td>\n",
       "      <td>0.086484</td>\n",
       "      <td>-0.002047</td>\n",
       "    </tr>\n",
       "  </tbody>\n",
       "</table>\n",
       "</div>"
      ],
      "text/plain": [
       "                 BTC       BTT      DOGE       ETH       LTC       XRP  \\\n",
       "Date                                                                     \n",
       "2019-05-19  0.010052 -0.110362  0.045051 -0.103642 -0.088470  0.049490   \n",
       "2019-05-18 -0.114341 -0.059659 -0.054437  0.045122  0.037276 -0.107647   \n",
       "2019-05-17  0.013947 -0.036254 -0.014309  0.080952  0.065309  0.036103   \n",
       "2019-05-16  0.069974 -0.075235  0.069548 -0.058209  0.067990  0.086780   \n",
       "2019-05-15  0.041168 -0.037288  0.044192 -0.126747 -0.103364  0.086484   \n",
       "\n",
       "               SOLVE       XLM      TRON       ZIL       BTC      DOGE  \\\n",
       "Date                                                                     \n",
       "2019-05-19 -0.112904  0.043823  0.026939  0.065474 -0.114341  0.045051   \n",
       "2019-05-18 -0.042606 -0.089423 -0.083820 -0.077465  0.013947 -0.054437   \n",
       "2019-05-17 -0.097778 -0.017627  0.014801  0.011705  0.069974 -0.014309   \n",
       "2019-05-16 -0.139457  0.084709  0.060140  0.046557  0.041168  0.069548   \n",
       "2019-05-15  0.007420 -0.002047  0.086322  0.088224 -0.025892  0.044192   \n",
       "\n",
       "                 ETH       LTC       XRP       XLM  \n",
       "Date                                                \n",
       "2019-05-19 -0.103642 -0.088470  0.049490  0.043823  \n",
       "2019-05-18  0.045122  0.037276 -0.107647 -0.089423  \n",
       "2019-05-17  0.080952  0.065309  0.036103 -0.017627  \n",
       "2019-05-16 -0.058209  0.067990  0.086780  0.084709  \n",
       "2019-05-15 -0.126747 -0.103364  0.086484 -0.002047  "
      ]
     },
     "execution_count": 4,
     "metadata": {},
     "output_type": "execute_result"
    }
   ],
   "source": [
    "# Concat returns DataFrames\n",
    "all_returns = pd.concat([harold_returns,my_returns], axis='columns', join='inner')\n",
    "all_returns.head()"
   ]
  },
  {
   "cell_type": "markdown",
   "metadata": {},
   "source": [
    "### Calculate `std dev` for all data"
   ]
  },
  {
   "cell_type": "code",
   "execution_count": 5,
   "metadata": {},
   "outputs": [
    {
     "data": {
      "text/plain": [
       "BTC     0.070488\n",
       "BTT     0.030731\n",
       "DOGE    0.050907\n",
       "ETH     0.091517\n",
       "LTC     0.084703\n",
       "dtype: float64"
      ]
     },
     "execution_count": 5,
     "metadata": {},
     "output_type": "execute_result"
    }
   ],
   "source": [
    "# Calculate std dev\n",
    "all_portfolio_std = all_returns.std()\n",
    "all_portfolio_std.head()"
   ]
  },
  {
   "cell_type": "markdown",
   "metadata": {},
   "source": [
    "### Calculate `sharpe ratio` for all data"
   ]
  },
  {
   "cell_type": "code",
   "execution_count": 6,
   "metadata": {},
   "outputs": [
    {
     "data": {
      "text/plain": [
       "BTC      0.936891\n",
       "BTT    -32.935733\n",
       "DOGE     5.615811\n",
       "ETH     -5.638309\n",
       "LTC     -0.796855\n",
       "dtype: float64"
      ]
     },
     "execution_count": 6,
     "metadata": {},
     "output_type": "execute_result"
    }
   ],
   "source": [
    "# Calculate sharpe ratio\n",
    "sharpe_ratios = (all_returns.mean() * 252) / (all_portfolio_std * np.sqrt(252))\n",
    "sharpe_ratios.head()"
   ]
  },
  {
   "cell_type": "markdown",
   "metadata": {},
   "source": [
    "### Plot Sharpe Ratios"
   ]
  },
  {
   "cell_type": "code",
   "execution_count": 7,
   "metadata": {},
   "outputs": [
    {
     "data": {
      "text/plain": [
       "<matplotlib.axes._subplots.AxesSubplot at 0x114304860>"
      ]
     },
     "execution_count": 7,
     "metadata": {},
     "output_type": "execute_result"
    },
    {
     "data": {
      "image/png": "[encoded data removed]",
      "text/plain": [
       "<Figure size 432x288 with 1 Axes>"
      ]
     },
     "metadata": {
      "needs_background": "light"
     },
     "output_type": "display_data"
    }
   ],
   "source": [
    "# Plot\n",
    "sharpe_ratios.plot.bar(title='Sharpe Ratios')"
   ]
  },
  {
   "cell_type": "markdown",
   "metadata": {},
   "source": [
    "### How many smart investments did Harold make compared to risky investments? How many did you make?"
   ]
  },
  {
   "cell_type": "markdown",
   "metadata": {},
   "source": [
    "Out of his 10 investments, Harold only made 4 good investments. Out of the students' 6 investments, 3 of them were smart investments."
   ]
  },
  {
   "cell_type": "markdown",
   "metadata": {},
   "source": [
    "### Which cryptos have been the smartest investment?"
   ]
  },
  {
   "cell_type": "markdown",
   "metadata": {},
   "source": [
    "DOGE, TRON, and XML have been the smartest crypto investments."
   ]
  }
 ],
 "metadata": {
  "kernelspec": {
   "display_name": "Python 3",
   "language": "python",
   "name": "python3"
  },
  "language_info": {
   "codemirror_mode": {
    "name": "ipython",
    "version": 3
   },
   "file_extension": ".py",
   "mimetype": "text/x-python",
   "name": "python",
   "nbconvert_exporter": "python",
   "pygments_lexer": "ipython3",
   "version": "3.7.3"
  }
 },
 "nbformat": 4,
 "nbformat_minor": 4
}